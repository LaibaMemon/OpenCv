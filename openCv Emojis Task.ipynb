{
 "cells": [
  {
   "cell_type": "code",
   "execution_count": 1,
   "metadata": {},
   "outputs": [],
   "source": [
    "import cv2\n",
    "import numpy as np"
   ]
  },
  {
   "cell_type": "code",
   "execution_count": 4,
   "metadata": {},
   "outputs": [
    {
     "data": {
      "text/plain": [
       "-1"
      ]
     },
     "execution_count": 4,
     "metadata": {},
     "output_type": "execute_result"
    }
   ],
   "source": [
    "blank = np.zeros((400,400,3), np.uint8)\n",
    "cir=cv2.circle(blank,(100,200), 70, (155,233,255), -1)\n",
    "line= cv2.line(blank,(70,170),(85,172),(233,100,200),5)\n",
    "line= cv2.line(blank,(115,170),(130,172),(233,100,200),5)\n",
    "line= cv2.line(blank,(80,215),(120,215),(233,100,200),5)\n",
    "text=cv2.putText(blank,\"disgused\",(30,350),2,cv2.FONT_HERSHEY_COMPLEX,(135,200,200),3)\n",
    "cv2.imshow('emoji', blank)\n",
    "cv2.waitKey(0)"
   ]
  },
  {
   "cell_type": "code",
   "execution_count": 7,
   "metadata": {},
   "outputs": [
    {
     "data": {
      "text/plain": [
       "-1"
      ]
     },
     "execution_count": 7,
     "metadata": {},
     "output_type": "execute_result"
    }
   ],
   "source": [
    "blank = np.zeros((400,400,3), np.uint8)\n",
    "cir=cv2.circle(blank,(200,200), 70, (200,220,255), -1)\n",
    "cir=cv2.circle(blank,(170,180), 6, (155,100,215), -1)\n",
    "cir=cv2.circle(blank,(220,180), 6, (155,100,215), -1)\n",
    "el=cv2.ellipse(blank,(200,220),(40,30),0,0,180,120,-1)\n",
    "text=cv2.putText(blank,\"Sad\",(30,350),4,cv2.FONT_HERSHEY_COMPLEX,(220,210,244),3)\n",
    "cv2.imshow('emoji', blank)\n",
    "cv2.waitKey(0)\n"
   ]
  },
  {
   "cell_type": "code",
   "execution_count": null,
   "metadata": {},
   "outputs": [],
   "source": []
  }
 ],
 "metadata": {
  "kernelspec": {
   "display_name": "Python 3",
   "language": "python",
   "name": "python3"
  },
  "language_info": {
   "codemirror_mode": {
    "name": "ipython",
    "version": 3
   },
   "file_extension": ".py",
   "mimetype": "text/x-python",
   "name": "python",
   "nbconvert_exporter": "python",
   "pygments_lexer": "ipython3",
   "version": "3.8.5"
  }
 },
 "nbformat": 4,
 "nbformat_minor": 4
}
